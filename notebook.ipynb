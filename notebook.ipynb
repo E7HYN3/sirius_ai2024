{
  "nbformat": 4,
  "nbformat_minor": 0,
  "metadata": {
    "colab": {
      "provenance": [],
      "gpuType": "T4"
    },
    "kernelspec": {
      "name": "python3",
      "display_name": "Python 3"
    },
    "language_info": {
      "name": "python"
    },
    "accelerator": "GPU"
  },
  "cells": [
    {
      "cell_type": "markdown",
      "source": [
        "# Приложение для сжатия и суммаризации текста\n",
        "<a href='https://github.com/E7HYN3/sirius_ai2024' target=\"_blank\"><img alt='GitHub' src='https://img.shields.io/badge/github-100000?style=flat&logo=GitHub&logoColor=white&labelColor=black&color=black'/></a> <a target=\"_blank\" href=\"https://colab.research.google.com/github/https://colab.research.google.com/drive/1j-FdgRfbcW3zYJEJRwUT_oVaL-eiLuNm?usp=sharing\">\n",
        "  <img src=\"https://colab.research.google.com/assets/colab-badge.svg\" alt=\"Open In Colab\"/>\n",
        "</a><br>\n",
        "___\n",
        "Реализация дополнительного задания по сжатию текста при помощи ИИ\n"
      ],
      "metadata": {
        "id": "IxpONOivKFiK"
      }
    },
    {
      "cell_type": "code",
      "source": [
        "# @title Установка зависимостей\n",
        "!pip install ollama streamlit st-copy-to-clipboard\n",
        "!curl https://ollama.ai/install.sh | sh\n",
        "!wget https://github.com/cloudflare/cloudflared/releases/latest/download/cloudflared-linux-amd64\n",
        "!chmod +x cloudflared-linux-amd64"
      ],
      "metadata": {
        "collapsed": true,
        "cellView": "form",
        "id": "Q9E9yif9yHyJ"
      },
      "execution_count": null,
      "outputs": []
    },
    {
      "cell_type": "code",
      "source": [
        "# @title Загрузка LLM моделей\n",
        "import os\n",
        "os.environ.update({'OLLAMA_HOST': '0.0.0.0'})\n",
        "!nohup ollama serve &\n",
        "!ollama pull gemma2:9b\n",
        "!ollama pull llama3.2:3b"
      ],
      "metadata": {
        "collapsed": true,
        "cellView": "form",
        "id": "8sp18iw-zID7"
      },
      "execution_count": null,
      "outputs": []
    },
    {
      "cell_type": "code",
      "execution_count": null,
      "metadata": {
        "collapsed": true,
        "id": "-V7VSshZyFcN",
        "cellView": "form"
      },
      "outputs": [],
      "source": [
        "# @title Исходный код приложения\n",
        "%%writefile app.py\n",
        "import streamlit as st\n",
        "from st_copy_to_clipboard import st_copy_to_clipboard\n",
        "import ollama\n",
        "\n",
        "\n",
        "# Функция для выполнения запроса к модели Ollama\n",
        "def summarize_with_ollama(text, model_name, compression_level):\n",
        "    \"\"\"\n",
        "    Выполняет запрос к Ollama для сжатия текста.\n",
        "\n",
        "    Args:\n",
        "        text (str): Текст для сжатия.\n",
        "        model_name (str): Название модели Ollama.\n",
        "        compression_level (str): Уровень сжатия (\"Сильное\" или \"Слабое\").\n",
        "\n",
        "    Returns:\n",
        "        str: Сжатый текст.\n",
        "    \"\"\"\n",
        "    prompt_template = \"Сократи текст строго до {}:\\n{}\"\n",
        "    if compression_level == \"Сильное\":\n",
        "        prompt = prompt_template.format(\"одного или двух коротких предложений\", text)\n",
        "    else:\n",
        "        prompt = prompt_template.format(\"одного краткого абзаца\", text)\n",
        "    response = ollama.generate(model=model_name, prompt=prompt)\n",
        "    return response[\"response\"]\n",
        "\n",
        "\n",
        "# Интерфейс Streamlit\n",
        "st.title(\"Приложение для сжатия и суммаризации текста\")\n",
        "\n",
        "# Поле ввода текста\n",
        "input_text = st.text_area(\"Введите текст\")\n",
        "\n",
        "# Список моделей для выбора\n",
        "available_models = [model[\"name\"] for model in ollama.list()[\"models\"]]\n",
        "selected_model = st.selectbox(\"Выберите модель для сжатия\", available_models)\n",
        "\n",
        "# Выбор уровня сжатия\n",
        "compression_type = st.radio(\"Выберите уровень сжатия\", (\"Сильное\", \"Слабое\"))\n",
        "\n",
        "# Кнопка запуска\n",
        "if st.button(\"Сжать текст\"):\n",
        "    result = summarize_with_ollama(input_text, selected_model, compression_type)\n",
        "    # Вывод результата\n",
        "    st.title(\"Результат\")\n",
        "    st.write(result)\n",
        "    st_copy_to_clipboard(\n",
        "        result, before_copy_label=\"Копировать\", after_copy_label=\"Скопировано!\"\n",
        "    )\n"
      ]
    },
    {
      "cell_type": "code",
      "source": [
        "# @title Запуск приложения\n",
        "!nohup /content/cloudflared-linux-amd64 tunnel --url http://localhost:8501 &\n",
        "!ollama serve &>/content/ollama.txt &\n",
        "!grep -Eo 'https://.*\\.trycloudflare.com' nohup.out | tail -1| xargs -I {} echo \"Your tunnel url {}\"\n",
        "!streamlit run app.py &>/content/streamlit.txt &"
      ],
      "metadata": {
        "id": "-AfIrJPs0oF3",
        "cellView": "form"
      },
      "execution_count": null,
      "outputs": []
    }
  ]
}